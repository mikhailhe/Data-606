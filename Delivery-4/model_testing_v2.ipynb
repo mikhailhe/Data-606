{
 "cells": [
  {
   "cell_type": "code",
   "execution_count": 1,
   "metadata": {},
   "outputs": [
    {
     "name": "stderr",
     "output_type": "stream",
     "text": [
      "C:\\Users\\Mikhail\\Anaconda\\lib\\site-packages\\h5py\\__init__.py:36: FutureWarning: Conversion of the second argument of issubdtype from `float` to `np.floating` is deprecated. In future, it will be treated as `np.float64 == np.dtype(float).type`.\n",
      "  from ._conv import register_converters as _register_converters\n"
     ]
    }
   ],
   "source": [
    "import numpy as np\n",
    "import pandas as pd\n",
    "import h2o\n",
    "from h2o.estimators import H2OSupportVectorMachineEstimator\n",
    "from h2o.estimators.random_forest import H2ORandomForestEstimator\n",
    "from imblearn.over_sampling import SMOTE\n",
    "from sklearn.model_selection import train_test_split\n",
    "from sklearn.feature_selection import chi2\n",
    "from sklearn.metrics import f1_score, balanced_accuracy_score, roc_auc_score, confusion_matrix\n",
    "from sklearn.preprocessing import MinMaxScaler\n",
    "from h2o.grid.grid_search import H2OGridSearch\n",
    "import matplotlib.pyplot as plt\n",
    "%matplotlib inline"
   ]
  },
  {
   "cell_type": "code",
   "execution_count": 2,
   "metadata": {},
   "outputs": [],
   "source": [
    "data = pd.read_csv('C:\\\\Users\\\\Mikhail\\\\Documents\\\\Data 606\\\\cleaned_data.csv')\n",
    "\n",
    "#Sampling the data in consideration of my local machine's memory\n",
    "data_sample = data.sample(frac = .5)"
   ]
  },
  {
   "cell_type": "code",
   "execution_count": 3,
   "metadata": {},
   "outputs": [],
   "source": [
    "\"\"\"\n",
    "From text analysis of Level 4 descriptions, encoding features based on terms that are disproportionally present or not present \n",
    "in level 4 descriptions. Also changing the day of week to be either a weekday or weekend and dropping Sunrise_Sunset \n",
    "\"\"\"\n",
    "def feature_add(df):\n",
    "    \n",
    "    df['earlier_accident'] = 0\n",
    "    df.loc[df['Description'].str.contains('earlier'), 'earlier_accident'] = 1\n",
    "    \n",
    "    df['road_reopened'] = 0\n",
    "    df.loc[df['Description'].str.contains('re-opened'), 'road_reopened'] = 1\n",
    "    \n",
    "    df['emergency'] = 0\n",
    "    df.loc[df['Description'].str.contains('emergency'), 'emergency'] = 1\n",
    "    \n",
    "    df['near_locator'] = 0\n",
    "    df.loc[df['Description'].str.contains('near'), 'near_locator'] = 1\n",
    "    \n",
    "    df.loc[df['Description'].str.contains('jackknifed'), 'jacknifed'] = 1\n",
    "    \n",
    "    df['detour'] = 0\n",
    "    df.loc[df['Description'].str.contains('detour'), 'detour'] = 1\n",
    "    \n",
    "    df['weekend'] = 0\n",
    "    df.loc[df['Day_of_Week'] >= 5, 'weekend'] = 1\n",
    "    \n",
    "    df.drop(['Day_of_Week', 'Sunrise_Sunset'], axis = 1, inplace = True)\n",
    "\n",
    "\n",
    "    return df"
   ]
  },
  {
   "cell_type": "code",
   "execution_count": 4,
   "metadata": {},
   "outputs": [],
   "source": [
    "#Dropping all 1's. They are a miniscule minority and not a predictive priority. Also adding in the features\n",
    "extra_data = feature_add(data_sample)\n",
    "extra_data = extra_data[extra_data['Severity'] > 1]"
   ]
  },
  {
   "cell_type": "code",
   "execution_count": 5,
   "metadata": {},
   "outputs": [
    {
     "data": {
      "text/plain": [
       "{'construction_area': 1.574868252427758e-05,\n",
       " 'Roundabout': 5.3151803519436826e-05,\n",
       " 'detour': 0.00017717267839812277,\n",
       " 'Bump': 0.00018110984902919216,\n",
       " 'Traffic_Calming': 0.0004527746225729804,\n",
       " 'jacknifed': 0.0004980520848302785,\n",
       " 'emergency': 0.0009449209514566547,\n",
       " 'spillage': 0.0010433502172333897,\n",
       " 'No_Exit': 0.0011811511893208184,\n",
       " 'road_reopened': 0.0013150149907771777,\n",
       " 'ramp_blocked': 0.0015768368377432926,\n",
       " 'earlier_accident': 0.0027619251976951802,\n",
       " 'Give_Way': 0.0027717681242728537,\n",
       " 'serious': 0.003433212790292512,\n",
       " 'County_Hwy': 0.004846657046846425,\n",
       " 'Hour_': 0.005293525913472801,\n",
       " 'Heavy_Precip': 0.007569210538230911,\n",
       " 'Other_Cond': 0.0075869278060707234,\n",
       " 'multi_vehicle': 0.008171597644784529,\n",
       " 'Railway': 0.009193293423547036,\n",
       " 'Amenity': 0.014266337781679952,\n",
       " 'Stop': 0.015270316292602648,\n",
       " 'Impaired_Visibility': 0.0202547743115365,\n",
       " 'Station': 0.02185129700243514,\n",
       " 'Month_': 0.03604873429807138,\n",
       " 'Junction': 0.05157102951106247,\n",
       " 'near_locator': 0.07185336401701645,\n",
       " 'Precip': 0.07541453485281872,\n",
       " 'Crossing': 0.07941273162866969,\n",
       " 'Numbered_Hwy': 0.09199396038025194,\n",
       " 'weekend': 0.11192982387067182,\n",
       " 'State_Hwy': 0.17372962268125258,\n",
       " 'Traffic_Signal': 0.19862828975213542,\n",
       " 'Interstate_Hwy': 0.34348073443980953,\n",
       " 'Clear': 0.8884914533868526,\n",
       " 'Turning_Loop': nan,\n",
       " 'road_blocked': 0.378940861728536}"
      ]
     },
     "execution_count": 5,
     "metadata": {},
     "output_type": "execute_result"
    }
   ],
   "source": [
    "#Checking for extreme sparsity\n",
    "def feature_freq(df):\n",
    "    \n",
    "    excluded_cols = ['Temperature_F', 'Humidity', 'Pressure_in', 'Visibility_mi', 'Wind_Speed_mph', 'Severity', 'Description', 'TMC', 'Start_Time', 'End_Time', 'Start_Lat', 'Start_Lng', 'Distance_mi', 'Street', 'City', 'County', 'State', 'Zipcode', 'Weather_Condition', 'Civil_Twilight', 'Nautical_Twilight', 'Astronomical_Twilight', 'Time_Elapsed', 'Year_', 'POP_PER_SQ_MI', 'Month', 'Hour', 'Side', 'Timezone']\n",
    "    \n",
    "    positive_features = {}\n",
    "    for c in df.columns:\n",
    "        if c not in excluded_cols:\n",
    "            counts = df[c].value_counts(normalize = True)\n",
    "            try:\n",
    "                positives = counts.loc[1]\n",
    "                positive_features[c] = positives\n",
    "            except KeyError:\n",
    "                positive_features[c] = np.nan\n",
    "            \n",
    "    return {k: v for k, v in sorted(positive_features.items(), key=lambda item: item[1])}\n",
    "\n",
    "feature_freq(extra_data)"
   ]
  },
  {
   "cell_type": "markdown",
   "metadata": {},
   "source": [
    "I will drop the features for construction area, roundabout, bump, traffic calming, and turning loop. Some of the other very sparse features were found to be disproportionally present in level 4 accidents and will undoubtedly grow in density with synthetic oversampling."
   ]
  },
  {
   "cell_type": "code",
   "execution_count": 6,
   "metadata": {},
   "outputs": [],
   "source": [
    "#Dropping continuous columns and extraneous columns before chi-squared testing\n",
    "columns_to_drop = ['construction_area', 'Roundabout', 'Bump', 'Traffic_Calming', 'Turning_Loop', 'Start_Lat', 'Start_Lng', 'Temperature_F', 'Humidity', 'Pressure_in', 'Visibility_mi', 'Wind_Speed_mph', 'Severity', 'Description', 'TMC', 'Start_Time', 'End_Time', 'Start_Lat', 'Start_Lng', 'Distance_mi', 'Street', 'City', 'County', 'State', 'Zipcode', 'Weather_Condition', 'Civil_Twilight', 'Nautical_Twilight', 'Astronomical_Twilight', 'Time_Elapsed', 'Year_', 'POP_PER_SQ_MI']\n",
    "\n",
    "X = extra_data.drop(columns_to_drop, axis=1)\n",
    "y = extra_data['Severity']"
   ]
  },
  {
   "cell_type": "code",
   "execution_count": 7,
   "metadata": {
    "scrolled": false
   },
   "outputs": [
    {
     "data": {
      "image/png": "[encoded data removed]",
      "text/plain": [
       "<Figure size 720x576 with 1 Axes>"
      ]
     },
     "metadata": {},
     "output_type": "display_data"
    }
   ],
   "source": [
    "chi_scores = chi2(X,y)\n",
    "\n",
    "p_values = pd.Series(chi_scores[1],index = X.columns)\n",
    "p_values.sort_values(ascending = False , inplace = True)\n",
    "ind_columns = list(p_values[p_values > .05].index)\n",
    "\n",
    "p_values.plot.bar()\n",
    "fig = plt.gcf()\n",
    "fig.set_size_inches(10,8)\n",
    "plt.title('P-value Significance of Categorical Features', size = 24)\n",
    "plt.ylabel('P- Values', size = 16)\n",
    "plt.xlabel('Features', size = 16)\n",
    "plt.savefig('C:\\\\Users\\\\Mikhail\\\\Documents\\\\Data 606\\\\chi2_results')"
   ]
  },
  {
   "cell_type": "code",
   "execution_count": 8,
   "metadata": {},
   "outputs": [
    {
     "name": "stderr",
     "output_type": "stream",
     "text": [
      "C:\\Users\\Mikhail\\Anaconda\\lib\\site-packages\\pandas\\core\\frame.py:3694: SettingWithCopyWarning: \n",
      "A value is trying to be set on a copy of a slice from a DataFrame\n",
      "\n",
      "See the caveats in the documentation: http://pandas.pydata.org/pandas-docs/stable/indexing.html#indexing-view-versus-copy\n",
      "  errors=errors)\n"
     ]
    }
   ],
   "source": [
    "#Dropping statistically insignificant features if there are any\n",
    "extra_data.drop(ind_columns, axis = 1, inplace = True)\n",
    "\"\"\"\n",
    "Dropping redundant and sparse ones features, as well as ones that were \n",
    "relevant for geographic analysis, but not for model training\n",
    "\"\"\"\n",
    "extra_data = extra_data.drop(['construction_area', 'Roundabout', 'Bump', 'Traffic_Calming', 'Turning_Loop', 'Description', 'TMC', 'Start_Time', 'End_Time', 'Start_Lat', 'Start_Lng', 'Distance_mi', 'Street', 'City', 'County', 'State', 'Zipcode', 'Weather_Condition', 'Civil_Twilight', 'Nautical_Twilight', 'Astronomical_Twilight', 'Time_Elapsed', 'Year_'], axis = 1)"
   ]
  },
  {
   "cell_type": "code",
   "execution_count": 9,
   "metadata": {},
   "outputs": [],
   "source": [
    "#Train, validation, and test splitting\n",
    "feats = extra_data.drop('Severity', axis = 1)\n",
    "target = extra_data['Severity']\n",
    "\n",
    "x_train, x_test, y_train, y_test = train_test_split(feats, target, test_size = .2, random_state = 1)\n",
    "x_train, x_validate, y_train, y_validate = train_test_split(x_train, y_train, test_size = .3, random_state = 1)"
   ]
  },
  {
   "cell_type": "code",
   "execution_count": 10,
   "metadata": {},
   "outputs": [],
   "source": [
    "#Synthetically generating more minority samples\n",
    "maj_samples = len(y_train[y_train == 2])\n",
    "sm = SMOTE(random_state = 11, n_jobs = -1, sampling_strategy = {2 : maj_samples, 3: maj_samples, 4: maj_samples}, k_neighbors = 3)\n",
    "\n",
    "x_train_res, y_train_res = sm.fit_resample(x_train, y_train)"
   ]
  },
  {
   "cell_type": "code",
   "execution_count": 11,
   "metadata": {
    "scrolled": true
   },
   "outputs": [
    {
     "name": "stdout",
     "output_type": "stream",
     "text": [
      "Checking whether there is an H2O instance running at http://localhost:54321 ..... not found.\n",
      "Attempting to start a local H2O server...\n",
      "; Java HotSpot(TM) 64-Bit Server VM (build 25.181-b13, mixed mode)\n",
      "  Starting server from C:\\Users\\Mikhail\\Anaconda\\lib\\site-packages\\h2o\\backend\\bin\\h2o.jar\n",
      "  Ice root: C:\\Users\\Mikhail\\AppData\\Local\\Temp\\tmp2dao4hut\n",
      "  JVM stdout: C:\\Users\\Mikhail\\AppData\\Local\\Temp\\tmp2dao4hut\\h2o_Mikhail_started_from_python.out\n",
      "  JVM stderr: C:\\Users\\Mikhail\\AppData\\Local\\Temp\\tmp2dao4hut\\h2o_Mikhail_started_from_python.err\n",
      "  Server is running at http://127.0.0.1:54321\n",
      "Connecting to H2O server at http://127.0.0.1:54321 ... successful.\n"
     ]
    },
    {
     "data": {
      "text/html": [
       "<div style=\"overflow:auto\"><table style=\"width:50%\"><tr><td>H2O cluster uptime:</td>\n",
       "<td>02 secs</td></tr>\n",
       "<tr><td>H2O cluster timezone:</td>\n",
       "<td>America/New_York</td></tr>\n",
       "<tr><td>H2O data parsing timezone:</td>\n",
       "<td>UTC</td></tr>\n",
       "<tr><td>H2O cluster version:</td>\n",
       "<td>3.28.0.3</td></tr>\n",
       "<tr><td>H2O cluster version age:</td>\n",
       "<td>3 months and 4 days </td></tr>\n",
       "<tr><td>H2O cluster name:</td>\n",
       "<td>H2O_from_python_Mikhail_yajlkj</td></tr>\n",
       "<tr><td>H2O cluster total nodes:</td>\n",
       "<td>1</td></tr>\n",
       "<tr><td>H2O cluster free memory:</td>\n",
       "<td>1.738 Gb</td></tr>\n",
       "<tr><td>H2O cluster total cores:</td>\n",
       "<td>8</td></tr>\n",
       "<tr><td>H2O cluster allowed cores:</td>\n",
       "<td>8</td></tr>\n",
       "<tr><td>H2O cluster status:</td>\n",
       "<td>accepting new members, healthy</td></tr>\n",
       "<tr><td>H2O connection url:</td>\n",
       "<td>http://127.0.0.1:54321</td></tr>\n",
       "<tr><td>H2O connection proxy:</td>\n",
       "<td>{'http': None, 'https': None}</td></tr>\n",
       "<tr><td>H2O internal security:</td>\n",
       "<td>False</td></tr>\n",
       "<tr><td>H2O API Extensions:</td>\n",
       "<td>Amazon S3, Algos, AutoML, Core V3, TargetEncoder, Core V4</td></tr>\n",
       "<tr><td>Python version:</td>\n",
       "<td>3.6.5 final</td></tr></table></div>"
      ],
      "text/plain": [
       "--------------------------  ---------------------------------------------------------\n",
       "H2O cluster uptime:         02 secs\n",
       "H2O cluster timezone:       America/New_York\n",
       "H2O data parsing timezone:  UTC\n",
       "H2O cluster version:        3.28.0.3\n",
       "H2O cluster version age:    3 months and 4 days\n",
       "H2O cluster name:           H2O_from_python_Mikhail_yajlkj\n",
       "H2O cluster total nodes:    1\n",
       "H2O cluster free memory:    1.738 Gb\n",
       "H2O cluster total cores:    8\n",
       "H2O cluster allowed cores:  8\n",
       "H2O cluster status:         accepting new members, healthy\n",
       "H2O connection url:         http://127.0.0.1:54321\n",
       "H2O connection proxy:       {'http': None, 'https': None}\n",
       "H2O internal security:      False\n",
       "H2O API Extensions:         Amazon S3, Algos, AutoML, Core V3, TargetEncoder, Core V4\n",
       "Python version:             3.6.5 final\n",
       "--------------------------  ---------------------------------------------------------"
      ]
     },
     "metadata": {},
     "output_type": "display_data"
    }
   ],
   "source": [
    "h2o.init(nthreads = -1)"
   ]
  },
  {
   "cell_type": "code",
   "execution_count": 12,
   "metadata": {},
   "outputs": [
    {
     "name": "stdout",
     "output_type": "stream",
     "text": [
      "Parse progress: |█████████████████████████████████████████████████████████| 100%\n",
      "Parse progress: |█████████████████████████████████████████████████████████| 100%\n",
      "Parse progress: |█████████████████████████████████████████████████████████| 100%\n"
     ]
    }
   ],
   "source": [
    "#Ensuring columns have the same names and categorical columns are encoded as such\n",
    "x_train_res_df = pd.DataFrame(x_train_res)\n",
    "x_validate_df = pd.DataFrame(x_validate)\n",
    "x_test_df = pd.DataFrame(x_test)\n",
    "x_train_res_df.columns = list(feats.columns)\n",
    "x_validate_df.columns = list(feats.columns)\n",
    "x_test_df.columns = list(feats.columns)\n",
    "x_train_res_df['Severity'] = y_train_res\n",
    "x_validate_df['Severity'] = y_validate\n",
    "x_test_df['Severity'] = y_test\n",
    "\n",
    "h2o_train = h2o.H2OFrame(x_train_res_df)\n",
    "h2o_valid = h2o.H2OFrame(x_validate_df)\n",
    "h2o_test = h2o.H2OFrame(x_test_df)\n",
    "\n",
    "h2o_train['Severity'] = h2o_train['Severity'].asfactor()\n",
    "h2o_valid['Severity'] = h2o_valid['Severity'].asfactor()\n",
    "h2o_test['Severity'] = h2o_test['Severity'].asfactor()\n",
    "\n",
    "cont_columns = ['POP_PER_SQ_MI', 'Wind_Speed_mph', 'Visibility_mi', 'Pressure_in', 'Humidity', 'Temperature_F', 'Hour']\n",
    "#All these have the same column names\n",
    "for c in h2o_train.columns:\n",
    "    if c not in cont_columns:\n",
    "        h2o_train[c] = h2o_train[c].asfactor()\n",
    "        h2o_valid[c] = h2o_valid[c].asfactor()\n",
    "        h2o_test[c] = h2o_test[c].asfactor()"
   ]
  },
  {
   "cell_type": "markdown",
   "metadata": {},
   "source": [
    "Since the model will be training on artificially balanced data, the max depth of the trees should be kept low to prevent overfitting to this. There are also a relatively small amount of features, so the number of trees does not need to be too high. H2o gives a certain number of metrics to sort models by, I am going with mean per class accuracy as it is not affected by class imbalance, which is what I am looking for. In addition, I'm using the roc_auc score of my validation data. I am not cross-validating as the training data is artificially balanced, plus h2o will reflect validation frame metrics this way. "
   ]
  },
  {
   "cell_type": "code",
   "execution_count": 13,
   "metadata": {},
   "outputs": [],
   "source": [
    "def parameter_tuning():\n",
    "    \n",
    "    drf_params = {'ntrees' : [15,20,25,30,35,40,45,50], 'max_depth' : [4,5,6,7,8,9,10]}\n",
    "\n",
    "    criteria = {\"strategy\": \"RandomDiscrete\", \n",
    "                \"stopping_rounds\": 5,\n",
    "                \"stopping_tolerance\": 0.01,\n",
    "                \"stopping_metric\": \"misclassification\",\n",
    "                \"max_runtime_secs\" : 3600}\n",
    "\n",
    "    est = H2ORandomForestEstimator(categorical_encoding = 'label_encoder', nfolds = 0)\n",
    "\n",
    "    grid_search = H2OGridSearch(model = est, hyper_params = drf_params, search_criteria = criteria)\n",
    "    \n",
    "    features = list(h2o_train.columns)\n",
    "    features.remove('Severity')\n",
    "\n",
    "    grid_search.train(x = features, y = 'Severity', training_frame = h2o_train, validation_frame = h2o_valid)\n",
    "    grid_results = grid_search.get_grid(sort_by = 'mean_per_class_accuracy', decreasing = True)\n",
    "    sorted_metrics = grid_results.sorted_metric_table()\n",
    "    \n",
    "    print('\\n')\n",
    "    print('Top 3 model parameters and mean per-class accuracy:\\n')\n",
    "    for trees, depth, acc in zip(sorted_metrics['ntrees'].tolist()[:3], sorted_metrics['max_depth'].tolist()[:3], sorted_metrics['mean_per_class_accuracy'].tolist()[:3]):\n",
    "        print('Number of trees: {}'.format(trees))\n",
    "        print('Max Depth: {}'.format(depth))\n",
    "        print('Mean per-class Accuracy: {}\\n'.format(round(float(acc), 3)))\n",
    "    \n",
    "    model_one = h2o.get_model(sorted_metrics['model_ids'][0])\n",
    "    model_two = h2o.get_model(sorted_metrics['model_ids'][1])\n",
    "    model_three = h2o.get_model(sorted_metrics['model_ids'][2])\n",
    "    \n",
    "    #Each model's predictions\n",
    "    m1_predicts = [int(p[0]) for p in h2o.as_list(model_one.predict(h2o_valid)['predict'], use_pandas = False, header = False)]\n",
    "    m2_predicts = [int(p[0]) for p in h2o.as_list(model_two.predict(h2o_valid)['predict'], use_pandas = False, header = False)]\n",
    "    m3_predicts = [int(p[0]) for p in h2o.as_list(model_three.predict(h2o_valid)['predict'], use_pandas = False, header = False)]\n",
    "    \n",
    "    #Probability of each class per model\n",
    "    m1_probs = h2o.as_list(model_one.predict(h2o_valid), use_pandas = True)[['p2', 'p3', 'p4']].values\n",
    "    m2_probs = h2o.as_list(model_two.predict(h2o_valid), use_pandas = True)[['p2', 'p3', 'p4']].values\n",
    "    m3_probs = h2o.as_list(model_three.predict(h2o_valid), use_pandas = True)[['p2', 'p3', 'p4']].values\n",
    "\n",
    "    m1_auc = roc_auc_score(y_validate, m1_probs, multi_class = 'ovr')\n",
    "    m2_auc = roc_auc_score(y_validate, m2_probs, multi_class = 'ovr')\n",
    "    m3_auc = roc_auc_score(y_validate, m3_probs, multi_class = 'ovr')\n",
    "    \n",
    "    print('\\n')\n",
    "    print('Model 1 ROC_AUC Score: {}'.format(round(m1_auc, 3)))\n",
    "    print('Model 2 ROC_AUC Score: {}'.format(round(m2_auc, 3)))\n",
    "    print('Model 3 ROC_AUC Score: {}'.format(round(m3_auc, 3)))\n",
    "\n",
    "    return model_one, model_two, model_three      "
   ]
  },
  {
   "cell_type": "code",
   "execution_count": 14,
   "metadata": {},
   "outputs": [
    {
     "name": "stdout",
     "output_type": "stream",
     "text": [
      "drf Grid Build progress: |████████████████████████████████████████████████| 100%\n",
      "\n",
      "\n",
      "Top 3 model parameters and mean per-class accuracy:\n",
      "\n",
      "Number of trees: 25\n",
      "Max Depth: 7\n",
      "Mean per-class Accuracy: 0.776\n",
      "\n",
      "Number of trees: 35\n",
      "Max Depth: 8\n",
      "Mean per-class Accuracy: 0.774\n",
      "\n",
      "Number of trees: 30\n",
      "Max Depth: 6\n",
      "Mean per-class Accuracy: 0.773\n",
      "\n",
      "drf prediction progress: |████████████████████████████████████████████████| 100%\n",
      "drf prediction progress: |████████████████████████████████████████████████| 100%\n",
      "drf prediction progress: |████████████████████████████████████████████████| 100%\n",
      "drf prediction progress: |████████████████████████████████████████████████| 100%\n",
      "drf prediction progress: |████████████████████████████████████████████████| 100%\n",
      "drf prediction progress: |████████████████████████████████████████████████| 100%\n",
      "\n",
      "\n",
      "Model 1 ROC_AUC Score: 0.943\n",
      "Model 2 ROC_AUC Score: 0.942\n",
      "Model 3 ROC_AUC Score: 0.941\n"
     ]
    }
   ],
   "source": [
    "best_model, second_model, third_model = parameter_tuning()"
   ]
  },
  {
   "cell_type": "markdown",
   "metadata": {},
   "source": [
    "The roc_auc scores closely mirror the mean accuracies, so there is assurance that these are in fact the top 3 models. Neither the maximum amount of trees or max depth were used in the optimimum models, proving that moderating these hyperparamaters is the correct approach to achieve the best results. If all of the top models had ntrees >= 45 or max depth >= 9, I would consider extending the hyperparameter grid out further. To take a closer look at the exact results, here are the confusion matrices for each model. The order is the best through the third best model. \"0\" on the X-axis refers to class 2, \"1\" refers to class 3, \"2\" refers to class 4, and \"3\" is a cumulative result."
   ]
  },
  {
   "cell_type": "code",
   "execution_count": 15,
   "metadata": {},
   "outputs": [
    {
     "name": "stdout",
     "output_type": "stream",
     "text": [
      "\n",
      "Confusion Matrix: Row labels: Actual class; Column labels: Predicted class\n"
     ]
    },
    {
     "data": {
      "text/html": [
       "<div>\n",
       "<style scoped>\n",
       "    .dataframe tbody tr th:only-of-type {\n",
       "        vertical-align: middle;\n",
       "    }\n",
       "\n",
       "    .dataframe tbody tr th {\n",
       "        vertical-align: top;\n",
       "    }\n",
       "\n",
       "    .dataframe thead th {\n",
       "        text-align: right;\n",
       "    }\n",
       "</style>\n",
       "<table border=\"1\" class=\"dataframe\">\n",
       "  <thead>\n",
       "    <tr style=\"text-align: right;\">\n",
       "      <th></th>\n",
       "      <th>2</th>\n",
       "      <th>3</th>\n",
       "      <th>4</th>\n",
       "      <th>Error</th>\n",
       "      <th>Rate</th>\n",
       "    </tr>\n",
       "  </thead>\n",
       "  <tbody>\n",
       "    <tr>\n",
       "      <th>0</th>\n",
       "      <td>76441.0</td>\n",
       "      <td>2120.0</td>\n",
       "      <td>2367.0</td>\n",
       "      <td>0.055444</td>\n",
       "      <td>4,487 / 80,928</td>\n",
       "    </tr>\n",
       "    <tr>\n",
       "      <th>1</th>\n",
       "      <td>3213.0</td>\n",
       "      <td>27971.0</td>\n",
       "      <td>9365.0</td>\n",
       "      <td>0.310193</td>\n",
       "      <td>12,578 / 40,549</td>\n",
       "    </tr>\n",
       "    <tr>\n",
       "      <th>2</th>\n",
       "      <td>20.0</td>\n",
       "      <td>114.0</td>\n",
       "      <td>304.0</td>\n",
       "      <td>0.305936</td>\n",
       "      <td>134 / 438</td>\n",
       "    </tr>\n",
       "    <tr>\n",
       "      <th>3</th>\n",
       "      <td>79674.0</td>\n",
       "      <td>30205.0</td>\n",
       "      <td>12036.0</td>\n",
       "      <td>0.141074</td>\n",
       "      <td>17,199 / 121,915</td>\n",
       "    </tr>\n",
       "  </tbody>\n",
       "</table>\n",
       "</div>"
      ],
      "text/plain": [
       "         2        3        4     Error              Rate\n",
       "0  76441.0   2120.0   2367.0  0.055444    4,487 / 80,928\n",
       "1   3213.0  27971.0   9365.0  0.310193   12,578 / 40,549\n",
       "2     20.0    114.0    304.0  0.305936         134 / 438\n",
       "3  79674.0  30205.0  12036.0  0.141074  17,199 / 121,915"
      ]
     },
     "metadata": {},
     "output_type": "display_data"
    },
    {
     "name": "stdout",
     "output_type": "stream",
     "text": [
      "\n",
      "Confusion Matrix: Row labels: Actual class; Column labels: Predicted class\n"
     ]
    },
    {
     "data": {
      "text/html": [
       "<div>\n",
       "<style scoped>\n",
       "    .dataframe tbody tr th:only-of-type {\n",
       "        vertical-align: middle;\n",
       "    }\n",
       "\n",
       "    .dataframe tbody tr th {\n",
       "        vertical-align: top;\n",
       "    }\n",
       "\n",
       "    .dataframe thead th {\n",
       "        text-align: right;\n",
       "    }\n",
       "</style>\n",
       "<table border=\"1\" class=\"dataframe\">\n",
       "  <thead>\n",
       "    <tr style=\"text-align: right;\">\n",
       "      <th></th>\n",
       "      <th>2</th>\n",
       "      <th>3</th>\n",
       "      <th>4</th>\n",
       "      <th>Error</th>\n",
       "      <th>Rate</th>\n",
       "    </tr>\n",
       "  </thead>\n",
       "  <tbody>\n",
       "    <tr>\n",
       "      <th>0</th>\n",
       "      <td>76272.0</td>\n",
       "      <td>2085.0</td>\n",
       "      <td>2571.0</td>\n",
       "      <td>0.057533</td>\n",
       "      <td>4,656 / 80,928</td>\n",
       "    </tr>\n",
       "    <tr>\n",
       "      <th>1</th>\n",
       "      <td>3154.0</td>\n",
       "      <td>27564.0</td>\n",
       "      <td>9831.0</td>\n",
       "      <td>0.320230</td>\n",
       "      <td>12,985 / 40,549</td>\n",
       "    </tr>\n",
       "    <tr>\n",
       "      <th>2</th>\n",
       "      <td>21.0</td>\n",
       "      <td>111.0</td>\n",
       "      <td>306.0</td>\n",
       "      <td>0.301370</td>\n",
       "      <td>132 / 438</td>\n",
       "    </tr>\n",
       "    <tr>\n",
       "      <th>3</th>\n",
       "      <td>79447.0</td>\n",
       "      <td>29760.0</td>\n",
       "      <td>12708.0</td>\n",
       "      <td>0.145782</td>\n",
       "      <td>17,773 / 121,915</td>\n",
       "    </tr>\n",
       "  </tbody>\n",
       "</table>\n",
       "</div>"
      ],
      "text/plain": [
       "         2        3        4     Error              Rate\n",
       "0  76272.0   2085.0   2571.0  0.057533    4,656 / 80,928\n",
       "1   3154.0  27564.0   9831.0  0.320230   12,985 / 40,549\n",
       "2     21.0    111.0    306.0  0.301370         132 / 438\n",
       "3  79447.0  29760.0  12708.0  0.145782  17,773 / 121,915"
      ]
     },
     "metadata": {},
     "output_type": "display_data"
    },
    {
     "name": "stdout",
     "output_type": "stream",
     "text": [
      "\n",
      "Confusion Matrix: Row labels: Actual class; Column labels: Predicted class\n"
     ]
    },
    {
     "data": {
      "text/html": [
       "<div>\n",
       "<style scoped>\n",
       "    .dataframe tbody tr th:only-of-type {\n",
       "        vertical-align: middle;\n",
       "    }\n",
       "\n",
       "    .dataframe tbody tr th {\n",
       "        vertical-align: top;\n",
       "    }\n",
       "\n",
       "    .dataframe thead th {\n",
       "        text-align: right;\n",
       "    }\n",
       "</style>\n",
       "<table border=\"1\" class=\"dataframe\">\n",
       "  <thead>\n",
       "    <tr style=\"text-align: right;\">\n",
       "      <th></th>\n",
       "      <th>2</th>\n",
       "      <th>3</th>\n",
       "      <th>4</th>\n",
       "      <th>Error</th>\n",
       "      <th>Rate</th>\n",
       "    </tr>\n",
       "  </thead>\n",
       "  <tbody>\n",
       "    <tr>\n",
       "      <th>0</th>\n",
       "      <td>76503.0</td>\n",
       "      <td>1919.0</td>\n",
       "      <td>2506.0</td>\n",
       "      <td>0.054678</td>\n",
       "      <td>4,425 / 80,928</td>\n",
       "    </tr>\n",
       "    <tr>\n",
       "      <th>1</th>\n",
       "      <td>3245.0</td>\n",
       "      <td>26588.0</td>\n",
       "      <td>10716.0</td>\n",
       "      <td>0.344299</td>\n",
       "      <td>13,961 / 40,549</td>\n",
       "    </tr>\n",
       "    <tr>\n",
       "      <th>2</th>\n",
       "      <td>23.0</td>\n",
       "      <td>100.0</td>\n",
       "      <td>315.0</td>\n",
       "      <td>0.280822</td>\n",
       "      <td>123 / 438</td>\n",
       "    </tr>\n",
       "    <tr>\n",
       "      <th>3</th>\n",
       "      <td>79771.0</td>\n",
       "      <td>28607.0</td>\n",
       "      <td>13537.0</td>\n",
       "      <td>0.151819</td>\n",
       "      <td>18,509 / 121,915</td>\n",
       "    </tr>\n",
       "  </tbody>\n",
       "</table>\n",
       "</div>"
      ],
      "text/plain": [
       "         2        3        4     Error              Rate\n",
       "0  76503.0   1919.0   2506.0  0.054678    4,425 / 80,928\n",
       "1   3245.0  26588.0  10716.0  0.344299   13,961 / 40,549\n",
       "2     23.0    100.0    315.0  0.280822         123 / 438\n",
       "3  79771.0  28607.0  13537.0  0.151819  18,509 / 121,915"
      ]
     },
     "metadata": {},
     "output_type": "display_data"
    },
    {
     "data": {
      "text/plain": [
       "(, , )"
      ]
     },
     "execution_count": 15,
     "metadata": {},
     "output_type": "execute_result"
    }
   ],
   "source": [
    "best_model.confusion_matrix(h2o_valid), second_model.confusion_matrix(h2o_valid), third_model.confusion_matrix(h2o_valid)"
   ]
  },
  {
   "cell_type": "markdown",
   "metadata": {},
   "source": [
    "My models are extremely robust at predicting occurences of level 2 accidents, with modest success predicting level 3 and level 4, despite a huge class imbalance. If less disruptive accidents can be thought of as \"negative\" results and more disruptive ones are thought of as \"positive\" results, my model also does a good job minimizing type II error for level 3 and 4, which is important in a functional context of this model. Overall, the results are decent given the difficult problem of detecting extreme class minority instances in a multiclassification problem without compromising too much in detection of other instances. I will choose the best model here."
   ]
  },
  {
   "cell_type": "code",
   "execution_count": 20,
   "metadata": {
    "scrolled": true
   },
   "outputs": [
    {
     "name": "stdout",
     "output_type": "stream",
     "text": [
      "drf prediction progress: |████████████████████████████████████████████████| 100%\n",
      "drf prediction progress: |████████████████████████████████████████████████| 100%\n",
      "\n",
      "\n",
      "Mean per-class accuracy on test data: 0.763\n",
      "\n",
      "F1 score on test data: 0.598\n",
      "\n",
      "Roc_AUC score on test data: 0.941\n"
     ]
    }
   ],
   "source": [
    "def model_testing(model):\n",
    "    \n",
    "    predictions = [int(p[0]) for p in h2o.as_list(model.predict(h2o_test)['predict'], use_pandas = False, header = False)]\n",
    "    probabilities = h2o.as_list(model.predict(h2o_test), use_pandas = True)[['p2', 'p3', 'p4']].values\n",
    "    mean_acc = balanced_accuracy_score(y_test, predictions)\n",
    "    f1 = f1_score(y_test, predictions, average = 'macro')\n",
    "    auc = roc_auc_score(y_test, probabilities, multi_class = 'ovr')\n",
    "    \n",
    "    print('\\n')\n",
    "    print('Mean per-class accuracy on test data: {}\\n'.format(round(mean_acc, 3)))\n",
    "    print('F1 score on test data: {}\\n'.format(round(f1, 3)))\n",
    "    print('Roc_AUC score on test data: {}'.format(round(auc, 3)))\n",
    "    \n",
    "    return\n",
    "\n",
    "model_testing(best_model)"
   ]
  },
  {
   "cell_type": "code",
   "execution_count": 21,
   "metadata": {},
   "outputs": [
    {
     "name": "stdout",
     "output_type": "stream",
     "text": [
      "\n",
      "Confusion Matrix: Row labels: Actual class; Column labels: Predicted class\n"
     ]
    },
    {
     "data": {
      "text/html": [
       "<div>\n",
       "<style scoped>\n",
       "    .dataframe tbody tr th:only-of-type {\n",
       "        vertical-align: middle;\n",
       "    }\n",
       "\n",
       "    .dataframe tbody tr th {\n",
       "        vertical-align: top;\n",
       "    }\n",
       "\n",
       "    .dataframe thead th {\n",
       "        text-align: right;\n",
       "    }\n",
       "</style>\n",
       "<table border=\"1\" class=\"dataframe\">\n",
       "  <thead>\n",
       "    <tr style=\"text-align: right;\">\n",
       "      <th></th>\n",
       "      <th>2</th>\n",
       "      <th>3</th>\n",
       "      <th>4</th>\n",
       "      <th>Error</th>\n",
       "      <th>Rate</th>\n",
       "    </tr>\n",
       "  </thead>\n",
       "  <tbody>\n",
       "    <tr>\n",
       "      <th>0</th>\n",
       "      <td>63767.0</td>\n",
       "      <td>1723.0</td>\n",
       "      <td>1977.0</td>\n",
       "      <td>0.054842</td>\n",
       "      <td>3,700 / 67,467</td>\n",
       "    </tr>\n",
       "    <tr>\n",
       "      <th>1</th>\n",
       "      <td>2587.0</td>\n",
       "      <td>23502.0</td>\n",
       "      <td>7671.0</td>\n",
       "      <td>0.303851</td>\n",
       "      <td>10,258 / 33,760</td>\n",
       "    </tr>\n",
       "    <tr>\n",
       "      <th>2</th>\n",
       "      <td>18.0</td>\n",
       "      <td>112.0</td>\n",
       "      <td>239.0</td>\n",
       "      <td>0.352304</td>\n",
       "      <td>130 / 369</td>\n",
       "    </tr>\n",
       "    <tr>\n",
       "      <th>3</th>\n",
       "      <td>66372.0</td>\n",
       "      <td>25337.0</td>\n",
       "      <td>9887.0</td>\n",
       "      <td>0.138667</td>\n",
       "      <td>14,088 / 101,596</td>\n",
       "    </tr>\n",
       "  </tbody>\n",
       "</table>\n",
       "</div>"
      ],
      "text/plain": [
       "         2        3       4     Error              Rate\n",
       "0  63767.0   1723.0  1977.0  0.054842    3,700 / 67,467\n",
       "1   2587.0  23502.0  7671.0  0.303851   10,258 / 33,760\n",
       "2     18.0    112.0   239.0  0.352304         130 / 369\n",
       "3  66372.0  25337.0  9887.0  0.138667  14,088 / 101,596"
      ]
     },
     "metadata": {},
     "output_type": "display_data"
    },
    {
     "data": {
      "text/plain": []
     },
     "execution_count": 21,
     "metadata": {},
     "output_type": "execute_result"
    }
   ],
   "source": [
    "#Test data confusion matrix\n",
    "best_model.confusion_matrix(h2o_test)"
   ]
  },
  {
   "cell_type": "markdown",
   "metadata": {},
   "source": [
    "Modeling holds up for testing data. Decent results given circumstances, but I want to see if I can do better. I will try a penalized SVM model using a one vs. rest classification method. H2o only has support for binary classification, so I will have to code a way to train 3 different models as OVR. H2o is significantly faster than sklearn due to its built-in parallel processing, so this is best way to proceed despite some of the extra effort."
   ]
  },
  {
   "cell_type": "code",
   "execution_count": 52,
   "metadata": {
    "scrolled": false
   },
   "outputs": [],
   "source": [
    "def ovr_svm(train_array, test_array, level):\n",
    "    \n",
    "    cols_to_scale = ['Side', 'Timezone', 'Temperature_F', 'Humidity', 'Pressure_in', 'Visibility_mi', 'Wind_Speed_mph', 'POP_PER_SQ_MI']\n",
    "    \n",
    "    #Getting data into h2o and preprocessing\n",
    "    scaler = MinMaxScaler()\n",
    "    train_array[cols_to_scale] = scaler.fit_transform(train_array[cols_to_scale])\n",
    "    test_array[cols_to_scale] = scaler.fit_transform(test_array[cols_to_scale])\n",
    "\n",
    "    #Grid search is extremely time consuming, these are a good assumption for hyperparameters\n",
    "    svc = H2OSupportVectorMachineEstimator(hyper_param = 15, gamma = .5)\n",
    "    \n",
    "    predictions_df = pd.DataFrame(index = range(len(test_array)))\n",
    "    \n",
    "    #Making this into a binary classification problem with the specified level\n",
    "    train_array.loc[train_array['Severity'] == level, 'Severity'] = 1\n",
    "    train_array.loc[train_array['Severity'] > 1, 'Severity'] = 0\n",
    "    test_array.loc[test_array['Severity'] == level, 'Severity'] = 1\n",
    "    test_array.loc[test_array['Severity'] > 1, 'Severity'] = 0\n",
    "\n",
    "    h2o_train_ovr_df = h2o.H2OFrame(train_array)\n",
    "    h2o_test_ovr_df = h2o.H2OFrame(test_array)\n",
    "    h2o_train_ovr_df['Severity'] = h2o_train_ovr_df['Severity'].asfactor()\n",
    "    h2o_test_ovr_df['Severity'] = h2o_test_ovr_df['Severity'].asfactor()\n",
    "\n",
    "    x = list(h2o_train_ovr_df.columns)\n",
    "    x.remove('Severity')\n",
    "    svc.train(x = x, y = 'Severity', training_frame = h2o_train_ovr_df)\n",
    "    predictions = svc.predict(h2o_test_ovr_df)\n",
    "    predictions_df['level'] = h2o.as_list(predictions, use_pandas = True)['predict']\n",
    "        \n",
    "    return predictions_df"
   ]
  },
  {
   "cell_type": "code",
   "execution_count": 56,
   "metadata": {},
   "outputs": [],
   "source": [
    "def svm_predictions(train_array, test_array):\n",
    "    #SVM is a more expensive algorithm\n",
    "    train_array['Severity'] = y_train\n",
    "    train_array_samp = train_array.sample(frac = .2)\n",
    "    test_array_samp = test_array.sample(frac = .12)\n",
    "    \n",
    "    level_predictions = pd.DataFrame(index = range(len(test_array_samp)))\n",
    "    \n",
    "    #Filling predictions dataframe for each predicted instance of each class\n",
    "    for i in range(2,5):\n",
    "        results = ovr_svm(train_array_samp.copy(), test_array_samp.copy(), i)\n",
    "        level_predictions['predicts_{}'.format(i)] = results\n",
    "        \n",
    "    level_predictions['Tie'] = 0\n",
    "    \n",
    "    #Not very elegant, but item assignment is not allowed in the .itertuples() method\n",
    "    series_values = []\n",
    "    for t in level_predictions.itertuples(index = False):\n",
    "        if t[0] == 1 and t[1] == 1:\n",
    "            series_values.append(5)\n",
    "        elif t[0] == 1 and t[2] == 1:\n",
    "            series_values.append(5)\n",
    "        elif t[1] == 1 and t[2] == 1:\n",
    "            series_values.append(5)\n",
    "        else:\n",
    "            series_values.append(0)\n",
    "    \n",
    "    #Assigning final prediction to be which svc indicates a positive class. \"Tie\" is if multiple models predict a positive class\n",
    "    level_predictions['Tie'] = series_values\n",
    "    level_predictions['Final_predict'] = level_predictions.idxmax(axis = 1)\n",
    "    \n",
    "    #Adding on predictions from the rf model in cases of a tie. Also making sure data types are the same\n",
    "    h2o_test_array_samp = h2o.H2OFrame(test_array_samp)\n",
    "    \n",
    "    for c in h2o_test_array_samp.columns:\n",
    "        if c not in cont_columns:\n",
    "            h2o_test_array_samp[c] = h2o_test_array_samp[c].asfactor()\n",
    "    \n",
    "    level_predictions[['rf_p2', 'rf_p3', 'rf_p4']] = h2o.as_list(best_model.predict(h2o_test_array_samp), use_pandas = True)[['p2', 'p3', 'p4']]\n",
    "    \n",
    "    #All level 4 predictions will be the final one, and other ties defer to the RF prediction class\n",
    "    level_predictions.loc[level_predictions['Final_predict'] == 'predicts_2', 'Final_predict'] = '2'\n",
    "    level_predictions.loc[level_predictions['Final_predict'] == 'predicts_3', 'Final_predict'] = '3'\n",
    "    level_predictions.loc[level_predictions['Final_predict'] == 'predicts_4', 'Final_predict'] = '4'\n",
    "    level_predictions.loc[level_predictions['Final_predict'] == 'Tie', 'Final_predict'] = level_predictions.loc[level_predictions['Final_predict'] == 'Tie', 'rf_p2' : 'rf_p4'].idxmax(axis = 1)\n",
    "    \n",
    "    level_predictions['Final_predict'] = level_predictions['Final_predict'].str[-1].astype(int)\n",
    "    level_predictions.loc[level_predictions['predicts_4'] == 1, 'Final_predict'] = 4\n",
    "    \n",
    "    balanced_acc = round(balanced_accuracy_score(test_array_samp['Severity'], level_predictions['Final_predict']),3)\n",
    "    f1 = round(f1_score(test_array_samp['Severity'], level_predictions['Final_predict'], average = 'macro'),3)\n",
    "    \n",
    "    print('\\n')\n",
    "    print('Mean accuracy score for SVM model: {}\\n'.format(balanced_acc))\n",
    "    print('F1 score for SVM Model: {}\\n'.format(f1))\n",
    "    \n",
    "    \n",
    "    return level_predictions, test_array_samp['Severity']"
   ]
  },
  {
   "cell_type": "markdown",
   "metadata": {},
   "source": [
    "Training on the synthetically generated dataset produces a tie in predicted classes about 75-80% of the time, which I am filling in with predictions from my RF model. To produce a distinguishably different model, I have to use the imbalanced training data."
   ]
  },
  {
   "cell_type": "code",
   "execution_count": 57,
   "metadata": {},
   "outputs": [
    {
     "name": "stdout",
     "output_type": "stream",
     "text": [
      "Parse progress: |█████████████████████████████████████████████████████████| 100%\n",
      "Parse progress: |█████████████████████████████████████████████████████████| 100%\n",
      "psvm Model Build progress: |██████████████████████████████████████████████| 100%\n",
      "psvm prediction progress: |███████████████████████████████████████████████| 100%\n",
      "Parse progress: |█████████████████████████████████████████████████████████| 100%\n",
      "Parse progress: |█████████████████████████████████████████████████████████| 100%\n",
      "psvm Model Build progress: |██████████████████████████████████████████████| 100%\n",
      "psvm prediction progress: |███████████████████████████████████████████████| 100%\n",
      "Parse progress: |█████████████████████████████████████████████████████████| 100%\n",
      "Parse progress: |█████████████████████████████████████████████████████████| 100%\n",
      "psvm Model Build progress: |██████████████████████████████████████████████| 100%\n",
      "psvm prediction progress: |███████████████████████████████████████████████| 100%\n",
      "Parse progress: |█████████████████████████████████████████████████████████| 100%\n",
      "drf prediction progress: |████████████████████████████████████████████████| 100%\n",
      "\n",
      "\n",
      "Mean accuracy score for SVM model: 0.593\n",
      "\n",
      "F1 score for SVM Model: 0.395\n",
      "\n"
     ]
    },
    {
     "data": {
      "text/plain": [
       "array([[8295,  224, 1313],\n",
       "       [1278,  891, 2562],\n",
       "       [  11,    6,   50]], dtype=int64)"
      ]
     },
     "execution_count": 57,
     "metadata": {},
     "output_type": "execute_result"
    }
   ],
   "source": [
    "p_df, true_values = svm_predictions(x_train.copy(), x_validate_df.copy())\n",
    "confusion_matrix(true_values, p_df['Final_predict'])"
   ]
  },
  {
   "cell_type": "code",
   "execution_count": 61,
   "metadata": {
    "scrolled": true
   },
   "outputs": [
    {
     "name": "stdout",
     "output_type": "stream",
     "text": [
      "Parse progress: |█████████████████████████████████████████████████████████| 100%\n",
      "Parse progress: |█████████████████████████████████████████████████████████| 100%\n",
      "psvm Model Build progress: |██████████████████████████████████████████████| 100%\n",
      "psvm prediction progress: |███████████████████████████████████████████████| 100%\n",
      "Parse progress: |█████████████████████████████████████████████████████████| 100%\n",
      "Parse progress: |█████████████████████████████████████████████████████████| 100%\n",
      "psvm Model Build progress: |██████████████████████████████████████████████| 100%\n",
      "psvm prediction progress: |███████████████████████████████████████████████| 100%\n",
      "Parse progress: |█████████████████████████████████████████████████████████| 100%\n",
      "Parse progress: |█████████████████████████████████████████████████████████| 100%\n",
      "psvm Model Build progress: |██████████████████████████████████████████████| 100%\n",
      "psvm prediction progress: |███████████████████████████████████████████████| 100%\n",
      "Parse progress: |█████████████████████████████████████████████████████████| 100%\n",
      "drf prediction progress: |████████████████████████████████████████████████| 100%\n",
      "\n",
      "\n",
      "Mean accuracy score for SVM model: 0.595\n",
      "\n",
      "F1 score for SVM Model: 0.435\n",
      "\n"
     ]
    },
    {
     "data": {
      "text/plain": [
       "array([[7035,  109, 1018],\n",
       "       [ 848, 1047, 2082],\n",
       "       [  14,    4,   35]], dtype=int64)"
      ]
     },
     "execution_count": 61,
     "metadata": {},
     "output_type": "execute_result"
    }
   ],
   "source": [
    "test_p_df, test_true_values = svm_predictions(x_train.copy(), x_test_df.copy())\n",
    "confusion_matrix(test_true_values, test_p_df['Final_predict'])"
   ]
  },
  {
   "cell_type": "markdown",
   "metadata": {},
   "source": [
    "Without a doubt, the random forest model is significantly better in every way."
   ]
  }
 ],
 "metadata": {
  "kernelspec": {
   "display_name": "Python 3",
   "language": "python",
   "name": "python3"
  },
  "language_info": {
   "codemirror_mode": {
    "name": "ipython",
    "version": 3
   },
   "file_extension": ".py",
   "mimetype": "text/x-python",
   "name": "python",
   "nbconvert_exporter": "python",
   "pygments_lexer": "ipython3",
   "version": "3.6.5"
  }
 },
 "nbformat": 4,
 "nbformat_minor": 2
}
